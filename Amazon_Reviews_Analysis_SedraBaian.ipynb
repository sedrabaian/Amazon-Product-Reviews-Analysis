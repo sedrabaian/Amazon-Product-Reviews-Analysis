{
 "cells": [
  {
   "cell_type": "markdown",
   "id": "c389cd51",
   "metadata": {},
   "source": [
    "# Amazon Product Reviews Analysis\n",
    "**Author**: Sedra Baian  \n",
    "**Date**: March 2025  \n",
    "\n",
    "This notebook presents an end‑to‑end analysis of Amazon product reviews. It follows a structured format comparable to the CS5100 final project template, including data preparation, exploratory analysis, modeling, and conclusions."
   ]
  },
  {
   "cell_type": "markdown",
   "id": "acb3bccf",
   "metadata": {},
   "source": [
    "# CS5100 Final Project\n",
    "\n",
    "*Description*: _Provide context for this step._"
   ]
  },
  {
   "cell_type": "code",
   "execution_count": null,
   "id": "ed246e31",
   "metadata": {},
   "outputs": [],
   "source": [
    "import os\n",
    "\n",
    "kaggle_path = os.path.expanduser(\"~/.kaggle\")\n",
    "print(\"Files in ~/.kaggle:\", os.listdir(kaggle_path))"
   ]
  },
  {
   "cell_type": "markdown",
   "id": "09c0c1c3",
   "metadata": {},
   "source": [
    "_Summary_: _Add key observations or next-step transition here._"
   ]
  },
  {
   "cell_type": "markdown",
   "id": "ec856fbe",
   "metadata": {},
   "source": [
    "## Prerequisites\n",
    "\n",
    "*Description*: _Provide context for this step._"
   ]
  },
  {
   "cell_type": "code",
   "execution_count": null,
   "id": "574c6b35",
   "metadata": {},
   "outputs": [],
   "source": [
    "import shutil\n",
    "\n",
    "kaggle_path = os.path.expanduser(\"~/.kaggle\")\n",
    "\n",
    "# Ensure the directory exists\n",
    "os.makedirs(kaggle_path, exist_ok=True)\n",
    "\n",
    "# Move kaggle.json to the correct location\n",
    "shutil.move(\"kaggle.json\", os.path.join(kaggle_path, \"kaggle.json\"))\n",
    "\n",
    "# Set proper permissions\n",
    "os.chmod(os.path.join(kaggle_path, \"kaggle.json\"), 600)\n",
    "\n",
    "print(\"✅ Kaggle API key successfully moved!\")"
   ]
  },
  {
   "cell_type": "markdown",
   "id": "e46678fd",
   "metadata": {},
   "source": [
    "_Summary_: _Add key observations or next-step transition here._"
   ]
  },
  {
   "cell_type": "markdown",
   "id": "8aff2486",
   "metadata": {},
   "source": [
    "## Problem\n",
    "\n",
    "*Description*: _Provide context for this step._"
   ]
  },
  {
   "cell_type": "code",
   "execution_count": null,
   "id": "24df0a10",
   "metadata": {},
   "outputs": [],
   "source": [
    "print(os.listdir(kaggle_path))"
   ]
  },
  {
   "cell_type": "markdown",
   "id": "70435994",
   "metadata": {},
   "source": [
    "_Summary_: _Add key observations or next-step transition here._"
   ]
  },
  {
   "cell_type": "markdown",
   "id": "23b9cb11",
   "metadata": {},
   "source": [
    "## Data\n",
    "\n",
    "*Description*: _Provide context for this step._"
   ]
  },
  {
   "cell_type": "code",
   "execution_count": null,
   "id": "0060f4f0",
   "metadata": {},
   "outputs": [],
   "source": [
    "!kaggle datasets list"
   ]
  },
  {
   "cell_type": "markdown",
   "id": "d98d2c94",
   "metadata": {},
   "source": [
    "_Summary_: _Add key observations or next-step transition here._"
   ]
  },
  {
   "cell_type": "markdown",
   "id": "8463b99d",
   "metadata": {},
   "source": [
    "####\n",
    "\n",
    "*Description*: _Provide context for this step._"
   ]
  },
  {
   "cell_type": "code",
   "execution_count": null,
   "id": "536273e3",
   "metadata": {},
   "outputs": [],
   "source": [
    "import kagglehub\n",
    "\n",
    "# Download latest version\n",
    "path = kagglehub.dataset_download(\"saurav9786/amazon-product-reviews\")\n",
    "\n",
    "print(\"Path to dataset files:\", path)"
   ]
  },
  {
   "cell_type": "markdown",
   "id": "ebf5ebe7",
   "metadata": {},
   "source": [
    "_Summary_: _Add key observations or next-step transition here._"
   ]
  },
  {
   "cell_type": "markdown",
   "id": "5e3feb9e",
   "metadata": {},
   "source": [
    "## Cleaning the Data\n",
    "\n",
    "*Description*: _Provide context for this step._"
   ]
  },
  {
   "cell_type": "code",
   "execution_count": null,
   "id": "3150a059",
   "metadata": {},
   "outputs": [],
   "source": [
    "import os\n",
    "\n",
    "dataset_path = r\"C:\\Users\\sedra\\.cache\\kagglehub\\datasets\\saurav9786\\amazon-product-reviews\\versions\\1\"\n",
    "print(\"Files in dataset:\", os.listdir(dataset_path))"
   ]
  },
  {
   "cell_type": "markdown",
   "id": "2b58af57",
   "metadata": {},
   "source": [
    "_Summary_: _Add key observations or next-step transition here._"
   ]
  },
  {
   "cell_type": "markdown",
   "id": "beb85229",
   "metadata": {},
   "source": [
    "### Summary of cleaning activities.\n",
    "\n",
    "*Description*: _Provide context for this step._"
   ]
  },
  {
   "cell_type": "code",
   "execution_count": null,
   "id": "c41189cd",
   "metadata": {},
   "outputs": [],
   "source": [
    "import os\n",
    "\n",
    "dataset_path = r\"C:\\Users\\sedra\\.cache\\kagglehub\\datasets\\saurav9786\\amazon-product-reviews\\versions\\1\"\n",
    "print(\"Files in dataset folder:\", os.listdir(dataset_path))"
   ]
  },
  {
   "cell_type": "markdown",
   "id": "ced206e4",
   "metadata": {},
   "source": [
    "_Summary_: _Add key observations or next-step transition here._"
   ]
  },
  {
   "cell_type": "markdown",
   "id": "83da7905",
   "metadata": {},
   "source": [
    "#### Step 1\n",
    "\n",
    "*Description*: _Provide context for this step._"
   ]
  },
  {
   "cell_type": "code",
   "execution_count": null,
   "id": "20799e85",
   "metadata": {},
   "outputs": [],
   "source": [
    "import pandas as pd\n",
    "import os\n",
    "\n",
    "# Define the correct file path\n",
    "file_name = \"ratings_Electronics (1).csv\"  # Use the correct filename\n",
    "dataset_path = r\"C:\\Users\\sedra\\.cache\\kagglehub\\datasets\\saurav9786\\amazon-product-reviews\\versions\\1\"\n",
    "file_path = os.path.join(dataset_path, file_name)\n",
    "\n",
    "# Load the dataset\n",
    "df = pd.read_csv(file_path)\n",
    "\n",
    "# Display the first few rows\n",
    "df.head()\n"
   ]
  },
  {
   "cell_type": "markdown",
   "id": "3871bded",
   "metadata": {},
   "source": [
    "_Summary_: _Add key observations or next-step transition here._"
   ]
  },
  {
   "cell_type": "markdown",
   "id": "6c9b8b6c",
   "metadata": {},
   "source": [
    "#### Step 2\n",
    "\n",
    "*Description*: _Provide context for this step._"
   ]
  },
  {
   "cell_type": "code",
   "execution_count": null,
   "id": "276dcc1d",
   "metadata": {},
   "outputs": [],
   "source": [
    "# Check the first few rows\n",
    "df.head()\n",
    "\n",
    "# Check the column names\n",
    "print(\"Columns:\", df.columns)\n",
    "\n",
    "# Check the dataset size\n",
    "print(\"Dataset Shape:\", df.shape)\n"
   ]
  },
  {
   "cell_type": "markdown",
   "id": "1de659a4",
   "metadata": {},
   "source": [
    "_Summary_: _Add key observations or next-step transition here._"
   ]
  },
  {
   "cell_type": "markdown",
   "id": "90b45f70",
   "metadata": {},
   "source": [
    "#### Step 3\n",
    "\n",
    "*Description*: _Provide context for this step._"
   ]
  },
  {
   "cell_type": "code",
   "execution_count": null,
   "id": "8a224d76",
   "metadata": {},
   "outputs": [],
   "source": [
    "import pandas as pd\n",
    "\n",
    "# Show all rows and columns (be careful with large datasets)\n",
    "pd.set_option(\"display.max_rows\", None)  # Show all rows\n",
    "pd.set_option(\"display.max_columns\", None)  # Show all columns\n",
    "\n",
    "# Display the dataset"
   ]
  },
  {
   "cell_type": "markdown",
   "id": "5d480954",
   "metadata": {},
   "source": [
    "_Summary_: _Add key observations or next-step transition here._"
   ]
  },
  {
   "cell_type": "markdown",
   "id": "ea902eea",
   "metadata": {},
   "source": [
    "#### Step 4\n",
    "\n",
    "*Description*: _Provide context for this step._"
   ]
  },
  {
   "cell_type": "code",
   "execution_count": null,
   "id": "c456a07d",
   "metadata": {},
   "outputs": [],
   "source": [
    "import pandas as pd\n",
    "import os\n",
    "\n",
    "# Define dataset path\n",
    "dataset_path = r\"C:\\Users\\sedra\\.cache\\kagglehub\\datasets\\saurav9786\\amazon-product-reviews\\versions\\1\"\n",
    "file_name = \"ratings_Electronics (1).csv\"  # Ensure correct filename\n",
    "file_path = os.path.join(dataset_path, file_name)\n",
    "\n",
    "# Load the dataset\n",
    "df = pd.read_csv(file_path)\n",
    "\n",
    "# Show first 5 rows\n",
    "df.head()\n"
   ]
  },
  {
   "cell_type": "markdown",
   "id": "209347ab",
   "metadata": {},
   "source": [
    "_Summary_: _Add key observations or next-step transition here._"
   ]
  },
  {
   "cell_type": "markdown",
   "id": "783ae274",
   "metadata": {},
   "source": [
    "#### Step 5\n",
    "\n",
    "*Description*: _Provide context for this step._"
   ]
  },
  {
   "cell_type": "code",
   "execution_count": null,
   "id": "d9fab6d4",
   "metadata": {},
   "outputs": [],
   "source": [
    "pd.set_option(\"display.max_columns\", None)  # Show all columns\n",
    "df.head(10)  # Show first 10 rows\n"
   ]
  },
  {
   "cell_type": "markdown",
   "id": "e13268de",
   "metadata": {},
   "source": [
    "_Summary_: _Add key observations or next-step transition here._"
   ]
  },
  {
   "cell_type": "markdown",
   "id": "744e06a1",
   "metadata": {},
   "source": [
    "#### Step 6\n",
    "\n",
    "*Description*: _Provide context for this step._"
   ]
  },
  {
   "cell_type": "code",
   "execution_count": null,
   "id": "48c0abd6",
   "metadata": {},
   "outputs": [],
   "source": [
    "print(df.columns)"
   ]
  },
  {
   "cell_type": "markdown",
   "id": "4a66f234",
   "metadata": {},
   "source": [
    "_Summary_: _Add key observations or next-step transition here._"
   ]
  },
  {
   "cell_type": "markdown",
   "id": "7ac31724",
   "metadata": {},
   "source": [
    "#### Step 7\n",
    "\n",
    "*Description*: _Provide context for this step._"
   ]
  },
  {
   "cell_type": "code",
   "execution_count": null,
   "id": "66cb5235",
   "metadata": {},
   "outputs": [],
   "source": [
    "print(df.columns)"
   ]
  },
  {
   "cell_type": "markdown",
   "id": "c62a002f",
   "metadata": {},
   "source": [
    "_Summary_: _Add key observations or next-step transition here._"
   ]
  },
  {
   "cell_type": "markdown",
   "id": "e3183aa3",
   "metadata": {},
   "source": [
    "#####\n",
    "\n",
    "*Description*: _Provide context for this step._"
   ]
  },
  {
   "cell_type": "code",
   "execution_count": null,
   "id": "3f1b6ecc",
   "metadata": {},
   "outputs": [],
   "source": [
    "import pandas as pd\n",
    "import os\n",
    "\n",
    "dataset_path = r\"C:\\Users\\sedra\\.cache\\kagglehub\\datasets\\saurav9786\\amazon-product-reviews\\versions\\1\"\n",
    "file_name = \"ratings_Electronics (1).csv\"\n",
    "file_path = os.path.join(dataset_path, file_name)\n",
    "\n",
    "# Add column names manually\n",
    "column_names = ['user_id', 'product_id', 'rating', 'timestamp']\n",
    "\n",
    "df = pd.read_csv(file_path, names=column_names)\n",
    "\n",
    "# Check columns\n",
    "print(df.head())\n",
    "print(df.columns)\n"
   ]
  },
  {
   "cell_type": "markdown",
   "id": "4a04772a",
   "metadata": {},
   "source": [
    "_Summary_: _Add key observations or next-step transition here._"
   ]
  },
  {
   "cell_type": "markdown",
   "id": "1e310435",
   "metadata": {},
   "source": [
    "## Learning Model\n",
    "\n",
    "*Description*: _Provide context for this step._"
   ]
  },
  {
   "cell_type": "code",
   "execution_count": null,
   "id": "887193c5",
   "metadata": {},
   "outputs": [],
   "source": [
    "import matplotlib.pyplot as plt\n",
    "import seaborn as sns\n",
    "\n",
    "plt.figure(figsize=(8,5))\n",
    "sns.countplot(x='rating', data=df)\n",
    "plt.title('Rating Distribution')\n",
    "plt.show()"
   ]
  },
  {
   "cell_type": "markdown",
   "id": "8a8656aa",
   "metadata": {},
   "source": [
    "_Summary_: _Add key observations or next-step transition here._"
   ]
  },
  {
   "cell_type": "markdown",
   "id": "d0234a84",
   "metadata": {},
   "source": [
    "#### Step 8\n",
    "\n",
    "*Description*: _Provide context for this step._"
   ]
  },
  {
   "cell_type": "code",
   "execution_count": null,
   "id": "028dae01",
   "metadata": {},
   "outputs": [],
   "source": [
    "top_products = df['product_id'].value_counts().head(10)\n",
    "print(top_products)\n"
   ]
  },
  {
   "cell_type": "markdown",
   "id": "f379b66a",
   "metadata": {},
   "source": [
    "_Summary_: _Add key observations or next-step transition here._"
   ]
  },
  {
   "cell_type": "markdown",
   "id": "b5dab0d5",
   "metadata": {},
   "source": [
    "top_products.plot(kindbar)\n",
    "plt.title(Top 10 Most Rated Products)\n",
    "plt.xlabel(Product ID)\n",
    "plt.ylabel(Number of Ratings)\n",
    "plt.show()\n"
   ]
  },
  {
   "cell_type": "markdown",
   "id": "248e09bc",
   "metadata": {},
   "source": [
    "#### Step 9\n",
    "\n",
    "*Description*: _Provide context for this step._"
   ]
  },
  {
   "cell_type": "code",
   "execution_count": null,
   "id": "b2c8406a",
   "metadata": {},
   "outputs": [],
   "source": [
    "top_products.plot(kind='bar')\n",
    "plt.title('Top 10 Most Rated Products')\n",
    "plt.xlabel('Product ID')\n",
    "plt.ylabel('Number of Ratings')\n",
    "plt.show()\n"
   ]
  },
  {
   "cell_type": "markdown",
   "id": "f53b447c",
   "metadata": {},
   "source": [
    "_Summary_: _Add key observations or next-step transition here._"
   ]
  },
  {
   "cell_type": "markdown",
   "id": "d9d029d2",
   "metadata": {},
   "source": [
    "##### Model 1 - LogisticRegression with TfidfVectorizer\n",
    "\n",
    "*Description*: _Provide context for this step._"
   ]
  },
  {
   "cell_type": "code",
   "execution_count": null,
   "id": "aa36cf75",
   "metadata": {},
   "outputs": [],
   "source": [
    "top_users = df['user_id'].value_counts().head(10)\n",
    "print(top_users)\n"
   ]
  },
  {
   "cell_type": "markdown",
   "id": "0bf2d547",
   "metadata": {},
   "source": [
    "_Summary_: _Add key observations or next-step transition here._"
   ]
  },
  {
   "cell_type": "markdown",
   "id": "3351a0c5",
   "metadata": {},
   "source": [
    "##### Model 2 - Naive Bayes classifier (MultinomialNB) with Bag-of-words\n",
    "\n",
    "*Description*: _Provide context for this step._"
   ]
  },
  {
   "cell_type": "code",
   "execution_count": null,
   "id": "93651fe2",
   "metadata": {},
   "outputs": [],
   "source": [
    "df['date'] = pd.to_datetime(df['timestamp'], unit='s')\n",
    "df['date'].head()\n"
   ]
  },
  {
   "cell_type": "markdown",
   "id": "be8782e0",
   "metadata": {},
   "source": [
    "_Summary_: _Add key observations or next-step transition here._"
   ]
  },
  {
   "cell_type": "markdown",
   "id": "7f085624",
   "metadata": {},
   "source": [
    "##### Model 3 - SVM_classifier with TfidfVectorize\n",
    "\n",
    "*Description*: _Provide context for this step._"
   ]
  },
  {
   "cell_type": "code",
   "execution_count": null,
   "id": "f5b3c8a6",
   "metadata": {},
   "outputs": [],
   "source": [
    "df.set_index('date')['rating'].resample('M').mean().plot()\n",
    "plt.title('Average Ratings Over Time')\n",
    "plt.ylabel('Average Rating')\n",
    "plt.show()\n"
   ]
  },
  {
   "cell_type": "markdown",
   "id": "da64eae3",
   "metadata": {},
   "source": [
    "_Summary_: _Add key observations or next-step transition here._"
   ]
  },
  {
   "cell_type": "markdown",
   "id": "4b8b7eb8",
   "metadata": {},
   "source": [
    "##### Model 4 - Neural Network model with TfidfVectorizer\n",
    "\n",
    "*Description*: _Provide context for this step._"
   ]
  },
  {
   "cell_type": "code",
   "execution_count": null,
   "id": "ea4503c9",
   "metadata": {},
   "outputs": [],
   "source": [
    "# Check missing values\n",
    "print(\"Missing values per column:\")\n",
    "print(df.isnull().sum())\n",
    "\n",
    "# Drop rows with missing values (if any)\n",
    "df_clean = df.dropna()\n",
    "\n",
    "print(f\"✅ Shape after dropping missing values: {df_clean.shape}\")\n"
   ]
  },
  {
   "cell_type": "markdown",
   "id": "84af30ab",
   "metadata": {},
   "source": [
    "_Summary_: _Add key observations or next-step transition here._"
   ]
  },
  {
   "cell_type": "markdown",
   "id": "245bbc2a",
   "metadata": {},
   "source": [
    "## Tuning and Feature Extraction\n",
    "\n",
    "*Description*: _Provide context for this step._"
   ]
  },
  {
   "cell_type": "code",
   "execution_count": null,
   "id": "3dbf5965",
   "metadata": {},
   "outputs": [],
   "source": [
    "# Check duplicates\n",
    "print(f\"Number of duplicate rows: {df_clean.duplicated().sum()}\")\n",
    "\n",
    "# Remove duplicates\n",
    "df_clean = df_clean.drop_duplicates()\n",
    "\n",
    "print(f\"✅ Shape after removing duplicates: {df_clean.shape}\")\n"
   ]
  },
  {
   "cell_type": "markdown",
   "id": "55443f86",
   "metadata": {},
   "source": [
    "_Summary_: _Add key observations or next-step transition here._"
   ]
  },
  {
   "cell_type": "markdown",
   "id": "f8c87499",
   "metadata": {},
   "source": [
    "#### Step 10\n",
    "\n",
    "*Description*: _Provide context for this step._"
   ]
  },
  {
   "cell_type": "code",
   "execution_count": null,
   "id": "5d8fe502",
   "metadata": {},
   "outputs": [],
   "source": [
    "# Check rating type\n",
    "print(df_clean['rating'].dtype)\n",
    "\n",
    "# Convert to integer\n",
    "df_clean['rating'] = df_clean['rating'].astype(int)\n",
    "\n",
    "print(f\"✅ Rating column data type: {df_clean['rating'].dtype}\")\n"
   ]
  },
  {
   "cell_type": "markdown",
   "id": "0bf95dce",
   "metadata": {},
   "source": [
    "_Summary_: _Add key observations or next-step transition here._"
   ]
  },
  {
   "cell_type": "markdown",
   "id": "1e84338b",
   "metadata": {},
   "source": [
    "##### Tuning 1: Neural Network\n",
    "\n",
    "*Description*: _Provide context for this step._"
   ]
  },
  {
   "cell_type": "code",
   "execution_count": null,
   "id": "ae3057f1",
   "metadata": {},
   "outputs": [],
   "source": [
    "# Count reviews per product\n",
    "top_products = df_clean['product_id'].value_counts().head(5)\n",
    "\n",
    "print(\"🎯 Top 5 Most Reviewed Products:\")\n",
    "print(top_products)\n",
    "\n",
    "# Visualize\n",
    "import matplotlib.pyplot as plt\n",
    "\n",
    "top_products.plot(kind='bar', figsize=(8,5))\n",
    "plt.title('Top 5 Most Reviewed Products')\n",
    "plt.xlabel('Product ID')\n",
    "plt.ylabel('Number of Reviews')\n",
    "plt.show()\n"
   ]
  },
  {
   "cell_type": "markdown",
   "id": "00db5dbf",
   "metadata": {},
   "source": [
    "_Summary_: _Add key observations or next-step transition here._"
   ]
  },
  {
   "cell_type": "markdown",
   "id": "1e4e3600",
   "metadata": {},
   "source": [
    "##### Tuning 2: LogisticRegression\n",
    "\n",
    "*Description*: _Provide context for this step._"
   ]
  },
  {
   "cell_type": "code",
   "execution_count": null,
   "id": "16831975",
   "metadata": {},
   "outputs": [],
   "source": [
    "print(\"Missing values in each column:\")\n",
    "print(df.isnull().sum())\n"
   ]
  },
  {
   "cell_type": "markdown",
   "id": "5a0800d0",
   "metadata": {},
   "source": [
    "_Summary_: _Add key observations or next-step transition here._"
   ]
  },
  {
   "cell_type": "markdown",
   "id": "ef6b1e42",
   "metadata": {},
   "source": [
    "## Visuals\n",
    "\n",
    "*Description*: _Provide context for this step._"
   ]
  },
  {
   "cell_type": "code",
   "execution_count": null,
   "id": "6dde9e8f",
   "metadata": {},
   "outputs": [],
   "source": [
    "print(f\"Duplicate rows: {df.duplicated().sum()}\")\n"
   ]
  },
  {
   "cell_type": "markdown",
   "id": "0bbf8b99",
   "metadata": {},
   "source": [
    "_Summary_: _Add key observations or next-step transition here._"
   ]
  },
  {
   "cell_type": "markdown",
   "id": "b6a6f09b",
   "metadata": {},
   "source": [
    "##### LogisticRegression Tuning visuals.\n",
    "\n",
    "*Description*: _Provide context for this step._"
   ]
  },
  {
   "cell_type": "code",
   "execution_count": null,
   "id": "d75aabff",
   "metadata": {},
   "outputs": [],
   "source": [
    "print(df.dtypes)\n"
   ]
  },
  {
   "cell_type": "markdown",
   "id": "1f750e4e",
   "metadata": {},
   "source": [
    "_Summary_: _Add key observations or next-step transition here._"
   ]
  },
  {
   "cell_type": "markdown",
   "id": "5dd50012",
   "metadata": {},
   "source": [
    "## Demonstration with the model. Chosen model = LogisticRegression\n",
    "\n",
    "*Description*: _Provide context for this step._"
   ]
  },
  {
   "cell_type": "code",
   "execution_count": null,
   "id": "bac74e46",
   "metadata": {},
   "outputs": [],
   "source": [
    "print(\"Unique rating values:\", df['rating'].unique())\n"
   ]
  },
  {
   "cell_type": "markdown",
   "id": "a10aa0e7",
   "metadata": {},
   "source": [
    "_Summary_: _Add key observations or next-step transition here._"
   ]
  },
  {
   "cell_type": "markdown",
   "id": "b6d68271",
   "metadata": {},
   "source": [
    "#### Input demo\n",
    "\n",
    "*Description*: _Provide context for this step._"
   ]
  },
  {
   "cell_type": "code",
   "execution_count": null,
   "id": "570f200f",
   "metadata": {},
   "outputs": [],
   "source": [
    "df['rating'] = df['rating'].astype(int)\n",
    "print(\"Unique rating values after conversion:\", df['rating'].unique())\n",
    "print(\"Data type of rating column:\", df['rating'].dtype)\n"
   ]
  },
  {
   "cell_type": "markdown",
   "id": "9cf1b263",
   "metadata": {},
   "source": [
    "_Summary_: _Add key observations or next-step transition here._"
   ]
  },
  {
   "cell_type": "markdown",
   "id": "e2b8f978",
   "metadata": {},
   "source": [
    "#### Applying it on our reviews:\n",
    "\n",
    "*Description*: _Provide context for this step._"
   ]
  },
  {
   "cell_type": "code",
   "execution_count": null,
   "id": "8499caed",
   "metadata": {},
   "outputs": [],
   "source": [
    "print(\"Column names:\", df.columns)\n"
   ]
  },
  {
   "cell_type": "markdown",
   "id": "f0111f85",
   "metadata": {},
   "source": [
    "_Summary_: _Add key observations or next-step transition here._"
   ]
  },
  {
   "cell_type": "markdown",
   "id": "48f5f343",
   "metadata": {},
   "source": [
    "#### Initial sentiment vs LR sentiment\n",
    "\n",
    "*Description*: _Provide context for this step._"
   ]
  },
  {
   "cell_type": "code",
   "execution_count": null,
   "id": "e3b3e37e",
   "metadata": {},
   "outputs": [],
   "source": [
    "df.head(10)\n",
    "df.tail(10)\n"
   ]
  },
  {
   "cell_type": "markdown",
   "id": "7f0db2f2",
   "metadata": {},
   "source": [
    "_Summary_: _Add key observations or next-step transition here._"
   ]
  },
  {
   "cell_type": "markdown",
   "id": "8df7cbf5",
   "metadata": {},
   "source": [
    "#### Distribution of sentiments\n",
    "\n",
    "*Description*: _Provide context for this step._"
   ]
  },
  {
   "cell_type": "code",
   "execution_count": null,
   "id": "03ef78a4",
   "metadata": {},
   "outputs": [],
   "source": [
    "print(df.columns)\n"
   ]
  },
  {
   "cell_type": "markdown",
   "id": "ff129fde",
   "metadata": {},
   "source": [
    "_Summary_: _Add key observations or next-step transition here._"
   ]
  },
  {
   "cell_type": "markdown",
   "id": "1ebc74dd",
   "metadata": {},
   "source": [
    "## Refection\n",
    "\n",
    "*Description*: _Provide context for this step._"
   ]
  },
  {
   "cell_type": "code",
   "execution_count": null,
   "id": "e1668caa",
   "metadata": {},
   "outputs": [],
   "source": [
    "print(df.columns)\n"
   ]
  },
  {
   "cell_type": "markdown",
   "id": "88c25f3e",
   "metadata": {},
   "source": [
    "_Summary_: _Add key observations or next-step transition here._"
   ]
  },
  {
   "cell_type": "markdown",
   "id": "054c5c31",
   "metadata": {},
   "source": [
    "### Step 35\n",
    "\n",
    "*Description*: _Provide context for this step._"
   ]
  },
  {
   "cell_type": "code",
   "execution_count": null,
   "id": "4d95dd60",
   "metadata": {},
   "outputs": [],
   "source": [
    "df.head()\n"
   ]
  },
  {
   "cell_type": "markdown",
   "id": "eb1ebdb0",
   "metadata": {},
   "source": [
    "_Summary_: _Add key observations or next-step transition here._"
   ]
  },
  {
   "cell_type": "markdown",
   "id": "1a93412b",
   "metadata": {},
   "source": [
    "### Step 36\n",
    "\n",
    "*Description*: _Provide context for this step._"
   ]
  },
  {
   "cell_type": "code",
   "execution_count": null,
   "id": "f25b93cd",
   "metadata": {},
   "outputs": [],
   "source": [
    "df.to_csv(\"final_cleaned_reviews.csv\", index=False)\n",
    "print(\"✅ Cleaned dataset saved, ready to post!\")\n"
   ]
  },
  {
   "cell_type": "markdown",
   "id": "8c19f0c6",
   "metadata": {},
   "source": [
    "_Summary_: _Add key observations or next-step transition here._"
   ]
  },
  {
   "cell_type": "markdown",
   "id": "d0a09591",
   "metadata": {},
   "source": [
    "### Step 37\n",
    "\n",
    "*Description*: _Provide context for this step._"
   ]
  },
  {
   "cell_type": "code",
   "execution_count": null,
   "id": "bec7c035",
   "metadata": {},
   "outputs": [],
   "source": []
  },
  {
   "cell_type": "markdown",
   "id": "5077e053",
   "metadata": {},
   "source": [
    "_Summary_: _Add key observations or next-step transition here._"
   ]
  },
  {
   "cell_type": "markdown",
   "id": "4a657492",
   "metadata": {},
   "source": [
    "## Conclusion\n",
    "\n",
    "The analysis identified sentiment patterns, key review themes, and overall product performance. Future enhancements may include advanced text embeddings or deployment as a live dashboard."
   ]
  }
 ],
 "metadata": {
  "kernelspec": {
   "display_name": "Python 3 (ipykernel)",
   "language": "python",
   "name": "python3"
  },
  "language_info": {
   "codemirror_mode": {
    "name": "ipython",
    "version": 3
   },
   "file_extension": ".py",
   "mimetype": "text/x-python",
   "name": "python",
   "nbconvert_exporter": "python",
   "pygments_lexer": "ipython3",
   "version": "3.13.2"
  }
 },
 "nbformat": 4,
 "nbformat_minor": 5
}
